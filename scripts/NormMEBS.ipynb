{
 "cells": [
  {
   "cell_type": "code",
   "execution_count": 5,
   "metadata": {},
   "outputs": [],
   "source": [
    "#Import libraries\n",
    "%matplotlib inline\n",
    "import numpy as np\n",
    "import matplotlib.pylab as plt\n",
    "import pandas as pd\n",
    "import seaborn as sns\n",
    "from scipy import stats\n",
    "import numpy as np\n",
    "import matplotlib"
   ]
  },
  {
   "cell_type": "code",
   "execution_count": 6,
   "metadata": {},
   "outputs": [],
   "source": [
    "s=pd.read_table(\"../cycles/sulfur/entropies.tab\", index_col=0)\n",
    "c=pd.read_table(\"../cycles/carbon/entropies.tab\", index_col=0)\n",
    "n=pd.read_table(\"../cycles/nitrogen/entropies.tab\", index_col=0)\n",
    "fe=pd.read_table(\"../cycles/iron/entropies.tab\", index_col=0)\n",
    "o=pd.read_table(\"../cycles/oxygen/entropies.tab\", index_col=0)\n",
    "srb=pd.read_table(\"../cycles/srb/entropies.tab\", index_col=0)"
   ]
  },
  {
   "cell_type": "code",
   "execution_count": 7,
   "metadata": {},
   "outputs": [
    {
     "data": {
      "text/html": [
       "<div>\n",
       "<style scoped>\n",
       "    .dataframe tbody tr th:only-of-type {\n",
       "        vertical-align: middle;\n",
       "    }\n",
       "\n",
       "    .dataframe tbody tr th {\n",
       "        vertical-align: top;\n",
       "    }\n",
       "\n",
       "    .dataframe thead th {\n",
       "        text-align: right;\n",
       "    }\n",
       "</style>\n",
       "<table border=\"1\" class=\"dataframe\">\n",
       "  <thead>\n",
       "    <tr style=\"text-align: right;\">\n",
       "      <th></th>\n",
       "      <th>real</th>\n",
       "      <th>30</th>\n",
       "      <th>60</th>\n",
       "      <th>100</th>\n",
       "      <th>150</th>\n",
       "      <th>200</th>\n",
       "      <th>250</th>\n",
       "      <th>300</th>\n",
       "    </tr>\n",
       "  </thead>\n",
       "  <tbody>\n",
       "    <tr>\n",
       "      <th>PF00005</th>\n",
       "      <td>-0.001</td>\n",
       "      <td>0.001</td>\n",
       "      <td>-0.001</td>\n",
       "      <td>-0.001</td>\n",
       "      <td>-0.001</td>\n",
       "      <td>-0.001</td>\n",
       "      <td>-0.001</td>\n",
       "      <td>-0.001</td>\n",
       "    </tr>\n",
       "    <tr>\n",
       "      <th>PF00009</th>\n",
       "      <td>-0.001</td>\n",
       "      <td>-0.014</td>\n",
       "      <td>-0.001</td>\n",
       "      <td>-0.001</td>\n",
       "      <td>-0.001</td>\n",
       "      <td>-0.001</td>\n",
       "      <td>-0.001</td>\n",
       "      <td>-0.001</td>\n",
       "    </tr>\n",
       "    <tr>\n",
       "      <th>PF00034</th>\n",
       "      <td>-0.119</td>\n",
       "      <td>-0.195</td>\n",
       "      <td>-0.183</td>\n",
       "      <td>-0.153</td>\n",
       "      <td>-0.115</td>\n",
       "      <td>-0.106</td>\n",
       "      <td>-0.101</td>\n",
       "      <td>-0.107</td>\n",
       "    </tr>\n",
       "    <tr>\n",
       "      <th>PF00037</th>\n",
       "      <td>0.088</td>\n",
       "      <td>0.107</td>\n",
       "      <td>0.090</td>\n",
       "      <td>0.086</td>\n",
       "      <td>0.085</td>\n",
       "      <td>0.085</td>\n",
       "      <td>0.088</td>\n",
       "      <td>0.087</td>\n",
       "    </tr>\n",
       "    <tr>\n",
       "      <th>PF00106</th>\n",
       "      <td>0.043</td>\n",
       "      <td>-0.033</td>\n",
       "      <td>0.041</td>\n",
       "      <td>0.038</td>\n",
       "      <td>0.037</td>\n",
       "      <td>0.035</td>\n",
       "      <td>0.035</td>\n",
       "      <td>0.042</td>\n",
       "    </tr>\n",
       "  </tbody>\n",
       "</table>\n",
       "</div>"
      ],
      "text/plain": [
       "          real     30     60    100    150    200    250    300\n",
       "PF00005 -0.001  0.001 -0.001 -0.001 -0.001 -0.001 -0.001 -0.001\n",
       "PF00009 -0.001 -0.014 -0.001 -0.001 -0.001 -0.001 -0.001 -0.001\n",
       "PF00034 -0.119 -0.195 -0.183 -0.153 -0.115 -0.106 -0.101 -0.107\n",
       "PF00037  0.088  0.107  0.090  0.086  0.085  0.085  0.088  0.087\n",
       "PF00106  0.043 -0.033  0.041  0.038  0.037  0.035  0.035  0.042"
      ]
     },
     "execution_count": 7,
     "metadata": {},
     "output_type": "execute_result"
    }
   ],
   "source": [
    "s.head()"
   ]
  },
  {
   "cell_type": "code",
   "execution_count": 8,
   "metadata": {},
   "outputs": [],
   "source": [
    "def suming_entropies(data):\n",
    "    positive_count = 0\n",
    "    negative_sum = 0\n",
    "    for n in data:\n",
    "        if n >= 0:\n",
    "            positive_count += n\n",
    "        elif n < 0:\n",
    "            negative_sum += n\n",
    "\n",
    "    return [positive_count, negative_sum]"
   ]
  },
  {
   "cell_type": "code",
   "execution_count": 9,
   "metadata": {},
   "outputs": [],
   "source": [
    "sval=suming_entropies(s.real)\n",
    "cval=suming_entropies(c.real)\n",
    "nval= suming_entropies(n.real)\n",
    "feval= suming_entropies(fe.real)\n",
    "oval= suming_entropies(o.real)\n",
    "srbval=suming_entropies(srb.real)"
   ]
  },
  {
   "cell_type": "code",
   "execution_count": 10,
   "metadata": {},
   "outputs": [
    {
     "name": "stdout",
     "output_type": "stream",
     "text": [
      "sulfur: [16.018, -6.527000000000001]\n",
      "carbon: [85.33199999999998, -6.555]\n",
      "nitrogen: [22.079000000000004, -0.7040000000000001]\n",
      "iron [10.463999999999999, -1.188]\n",
      "oxygen: [10.702999999999998, -2.317]\n",
      "srb: [717.7609999999847, -407.44099999999395]\n"
     ]
    }
   ],
   "source": [
    "print(\"sulfur:\", suming_entropies(s.real))\n",
    "print(\"carbon:\", suming_entropies(c.real))\n",
    "print(\"nitrogen:\", suming_entropies(n.real))\n",
    "print(\"iron\", suming_entropies(fe.real))\n",
    "print(\"oxygen:\", suming_entropies(o.real))\n",
    "print(\"srb:\", suming_entropies(srb.real))"
   ]
  },
  {
   "cell_type": "code",
   "execution_count": 19,
   "metadata": {},
   "outputs": [],
   "source": [
    "df=pd.read_table(\"../Gen_Fasta.mebs.0.0001.tsv\", index_col=0)"
   ]
  },
  {
   "cell_type": "markdown",
   "metadata": {},
   "source": [
    "# Maximum values"
   ]
  },
  {
   "cell_type": "code",
   "execution_count": 20,
   "metadata": {},
   "outputs": [],
   "source": [
    "sulfur=16.018 \n",
    "carbon=85.33\n",
    "nitrogen=22.08\n",
    "iron=10.46\n",
    "oxygen = 10.70"
   ]
  },
  {
   "cell_type": "code",
   "execution_count": 21,
   "metadata": {},
   "outputs": [
    {
     "data": {
      "text/plain": [
       "-6.527000000000001"
      ]
     },
     "execution_count": 21,
     "metadata": {},
     "output_type": "execute_result"
    }
   ],
   "source": [
    "sval[1]\n"
   ]
  },
  {
   "cell_type": "markdown",
   "metadata": {},
   "source": [
    "# Normalizing by the min and max values"
   ]
  },
  {
   "cell_type": "markdown",
   "metadata": {},
   "source": [
    "# Normalize from 0-1"
   ]
  },
  {
   "cell_type": "code",
   "execution_count": 25,
   "metadata": {},
   "outputs": [],
   "source": [
    "def sulfur_per(x):\n",
    "    if x>=0:\n",
    "        pct=float(x/sval[0])\n",
    "        return round(pct,2)\n",
    "    elif x<0:\n",
    "        neg=float(abs(x/sval[1]))\n",
    "        return round(neg,2)\n",
    "    \n",
    "def carbon_per(x):\n",
    "    if x>=0:\n",
    "        pct=float(x/cval[0])\n",
    "        return round(pct,2)\n",
    "    elif x<0:\n",
    "        neg=float(abs(x/cval[1]))\n",
    "        return round(neg,2)\n",
    "def nitrogen_per(x):\n",
    "    if x>=0:\n",
    "        pct=float(x/nval[0])\n",
    "        return round(pct,2)\n",
    "    elif x<0:\n",
    "        neg=float(abs(x/nval[1]))\n",
    "        return round(neg,2)\n",
    "def iron_per(x):\n",
    "    if x>=0:\n",
    "        pct=float(x/feval[0])\n",
    "        return round(pct,2)\n",
    "    elif x<0:\n",
    "        neg=float(abs(x/feval[1]))\n",
    "        return round(neg,2)\n",
    "        \n",
    "def oxygen_per(x):\n",
    "    if x>=0:\n",
    "        pct=float(x/oval[0])\n",
    "        return round(pct,2)\n",
    "    elif x<0:\n",
    "        neg=float(abs(x/feval[1]))"
   ]
  },
  {
   "cell_type": "code",
   "execution_count": 26,
   "metadata": {},
   "outputs": [],
   "source": [
    "df['s'] = df.sulfur.apply(sulfur_per)\n",
    "df['c'] = df.carbon.apply(carbon_per)\n",
    "df['o'] = df.oxygen.apply(oxygen_per)\n",
    "df['f'] = df.iron.apply(iron_per)\n",
    "df['n'] = df.nitrogen.apply(nitrogen_per)\n"
   ]
  },
  {
   "cell_type": "code",
   "execution_count": 28,
   "metadata": {},
   "outputs": [
    {
     "data": {
      "text/html": [
       "<div>\n",
       "<style scoped>\n",
       "    .dataframe tbody tr th:only-of-type {\n",
       "        vertical-align: middle;\n",
       "    }\n",
       "\n",
       "    .dataframe tbody tr th {\n",
       "        vertical-align: top;\n",
       "    }\n",
       "\n",
       "    .dataframe thead th {\n",
       "        text-align: right;\n",
       "    }\n",
       "</style>\n",
       "<table border=\"1\" class=\"dataframe\">\n",
       "  <thead>\n",
       "    <tr style=\"text-align: right;\">\n",
       "      <th></th>\n",
       "      <th>s</th>\n",
       "      <th>c</th>\n",
       "      <th>o</th>\n",
       "      <th>f</th>\n",
       "      <th>n</th>\n",
       "    </tr>\n",
       "  </thead>\n",
       "  <tbody>\n",
       "    <tr>\n",
       "      <th>GCF_000195295.1_ASM19529v1_protein.faa.named.faa</th>\n",
       "      <td>0.66</td>\n",
       "      <td>0.17</td>\n",
       "      <td>0.30</td>\n",
       "      <td>0.39</td>\n",
       "      <td>0.50</td>\n",
       "    </tr>\n",
       "    <tr>\n",
       "      <th>GCF_000020945.1_ASM2094v1_protein.faa.named.faa</th>\n",
       "      <td>0.28</td>\n",
       "      <td>0.04</td>\n",
       "      <td>0.04</td>\n",
       "      <td>0.05</td>\n",
       "      <td>0.24</td>\n",
       "    </tr>\n",
       "    <tr>\n",
       "      <th>GCF_000148685.1_ASM14868v1_protein.faa.named.faa</th>\n",
       "      <td>0.00</td>\n",
       "      <td>0.17</td>\n",
       "      <td>0.32</td>\n",
       "      <td>0.50</td>\n",
       "      <td>0.77</td>\n",
       "    </tr>\n",
       "    <tr>\n",
       "      <th>GCF_000828475.1_ASM82847v1_protein.faa.named.faa</th>\n",
       "      <td>0.10</td>\n",
       "      <td>0.17</td>\n",
       "      <td>0.38</td>\n",
       "      <td>0.61</td>\n",
       "      <td>0.71</td>\n",
       "    </tr>\n",
       "    <tr>\n",
       "      <th>GCF_000758545.1_ASM75854v1_protein.faa.named.faa</th>\n",
       "      <td>0.10</td>\n",
       "      <td>0.03</td>\n",
       "      <td>0.37</td>\n",
       "      <td>0.34</td>\n",
       "      <td>0.45</td>\n",
       "    </tr>\n",
       "  </tbody>\n",
       "</table>\n",
       "</div>"
      ],
      "text/plain": [
       "                                                     s     c     o     f     n\n",
       "GCF_000195295.1_ASM19529v1_protein.faa.named.faa  0.66  0.17  0.30  0.39  0.50\n",
       "GCF_000020945.1_ASM2094v1_protein.faa.named.faa   0.28  0.04  0.04  0.05  0.24\n",
       "GCF_000148685.1_ASM14868v1_protein.faa.named.faa  0.00  0.17  0.32  0.50  0.77\n",
       "GCF_000828475.1_ASM82847v1_protein.faa.named.faa  0.10  0.17  0.38  0.61  0.71\n",
       "GCF_000758545.1_ASM75854v1_protein.faa.named.faa  0.10  0.03  0.37  0.34  0.45"
      ]
     },
     "execution_count": 28,
     "metadata": {},
     "output_type": "execute_result"
    }
   ],
   "source": [
    "df_new=df[['s','c','o','f', 'n']]\n",
    "df_new.head()\n"
   ]
  },
  {
   "cell_type": "code",
   "execution_count": 18,
   "metadata": {},
   "outputs": [],
   "source": [
    "#df_new.to_csv(\"../data/heatmap2plot.phylogeny.txt\", sep=\"\\t\")\n",
    "#df_new.to_csv(\"../../Brockarchaeota/notebooks/normalizedmebs.txt\", sep=\"\\t\")"
   ]
  },
  {
   "cell_type": "code",
   "execution_count": 30,
   "metadata": {},
   "outputs": [
    {
     "data": {
      "text/html": [
       "<div>\n",
       "<style scoped>\n",
       "    .dataframe tbody tr th:only-of-type {\n",
       "        vertical-align: middle;\n",
       "    }\n",
       "\n",
       "    .dataframe tbody tr th {\n",
       "        vertical-align: top;\n",
       "    }\n",
       "\n",
       "    .dataframe thead th {\n",
       "        text-align: right;\n",
       "    }\n",
       "</style>\n",
       "<table border=\"1\" class=\"dataframe\">\n",
       "  <thead>\n",
       "    <tr style=\"text-align: right;\">\n",
       "      <th></th>\n",
       "      <th>sulfur</th>\n",
       "      <th>carbon</th>\n",
       "      <th>oxygen</th>\n",
       "      <th>iron</th>\n",
       "      <th>nitrogen</th>\n",
       "      <th>s</th>\n",
       "      <th>c</th>\n",
       "      <th>o</th>\n",
       "      <th>f</th>\n",
       "      <th>n</th>\n",
       "    </tr>\n",
       "  </thead>\n",
       "  <tbody>\n",
       "    <tr>\n",
       "      <th>GCF_000195295.1_ASM19529v1_protein.faa.named.faa</th>\n",
       "      <td>10.647</td>\n",
       "      <td>14.514</td>\n",
       "      <td>3.171</td>\n",
       "      <td>4.033</td>\n",
       "      <td>10.980</td>\n",
       "      <td>0.66</td>\n",
       "      <td>0.17</td>\n",
       "      <td>0.30</td>\n",
       "      <td>0.39</td>\n",
       "      <td>0.50</td>\n",
       "    </tr>\n",
       "    <tr>\n",
       "      <th>GCF_000020945.1_ASM2094v1_protein.faa.named.faa</th>\n",
       "      <td>4.467</td>\n",
       "      <td>3.542</td>\n",
       "      <td>0.403</td>\n",
       "      <td>0.472</td>\n",
       "      <td>5.365</td>\n",
       "      <td>0.28</td>\n",
       "      <td>0.04</td>\n",
       "      <td>0.04</td>\n",
       "      <td>0.05</td>\n",
       "      <td>0.24</td>\n",
       "    </tr>\n",
       "    <tr>\n",
       "      <th>GCF_000148685.1_ASM14868v1_protein.faa.named.faa</th>\n",
       "      <td>0.034</td>\n",
       "      <td>14.162</td>\n",
       "      <td>3.434</td>\n",
       "      <td>5.274</td>\n",
       "      <td>16.919</td>\n",
       "      <td>0.00</td>\n",
       "      <td>0.17</td>\n",
       "      <td>0.32</td>\n",
       "      <td>0.50</td>\n",
       "      <td>0.77</td>\n",
       "    </tr>\n",
       "    <tr>\n",
       "      <th>GCF_000828475.1_ASM82847v1_protein.faa.named.faa</th>\n",
       "      <td>1.590</td>\n",
       "      <td>14.435</td>\n",
       "      <td>4.014</td>\n",
       "      <td>6.398</td>\n",
       "      <td>15.618</td>\n",
       "      <td>0.10</td>\n",
       "      <td>0.17</td>\n",
       "      <td>0.38</td>\n",
       "      <td>0.61</td>\n",
       "      <td>0.71</td>\n",
       "    </tr>\n",
       "    <tr>\n",
       "      <th>GCF_000758545.1_ASM75854v1_protein.faa.named.faa</th>\n",
       "      <td>1.655</td>\n",
       "      <td>2.522</td>\n",
       "      <td>3.998</td>\n",
       "      <td>3.539</td>\n",
       "      <td>9.986</td>\n",
       "      <td>0.10</td>\n",
       "      <td>0.03</td>\n",
       "      <td>0.37</td>\n",
       "      <td>0.34</td>\n",
       "      <td>0.45</td>\n",
       "    </tr>\n",
       "  </tbody>\n",
       "</table>\n",
       "</div>"
      ],
      "text/plain": [
       "                                                  sulfur  carbon  oxygen  \\\n",
       "GCF_000195295.1_ASM19529v1_protein.faa.named.faa  10.647  14.514   3.171   \n",
       "GCF_000020945.1_ASM2094v1_protein.faa.named.faa    4.467   3.542   0.403   \n",
       "GCF_000148685.1_ASM14868v1_protein.faa.named.faa   0.034  14.162   3.434   \n",
       "GCF_000828475.1_ASM82847v1_protein.faa.named.faa   1.590  14.435   4.014   \n",
       "GCF_000758545.1_ASM75854v1_protein.faa.named.faa   1.655   2.522   3.998   \n",
       "\n",
       "                                                   iron  nitrogen     s     c  \\\n",
       "GCF_000195295.1_ASM19529v1_protein.faa.named.faa  4.033    10.980  0.66  0.17   \n",
       "GCF_000020945.1_ASM2094v1_protein.faa.named.faa   0.472     5.365  0.28  0.04   \n",
       "GCF_000148685.1_ASM14868v1_protein.faa.named.faa  5.274    16.919  0.00  0.17   \n",
       "GCF_000828475.1_ASM82847v1_protein.faa.named.faa  6.398    15.618  0.10  0.17   \n",
       "GCF_000758545.1_ASM75854v1_protein.faa.named.faa  3.539     9.986  0.10  0.03   \n",
       "\n",
       "                                                     o     f     n  \n",
       "GCF_000195295.1_ASM19529v1_protein.faa.named.faa  0.30  0.39  0.50  \n",
       "GCF_000020945.1_ASM2094v1_protein.faa.named.faa   0.04  0.05  0.24  \n",
       "GCF_000148685.1_ASM14868v1_protein.faa.named.faa  0.32  0.50  0.77  \n",
       "GCF_000828475.1_ASM82847v1_protein.faa.named.faa  0.38  0.61  0.71  \n",
       "GCF_000758545.1_ASM75854v1_protein.faa.named.faa  0.37  0.34  0.45  "
      ]
     },
     "execution_count": 30,
     "metadata": {},
     "output_type": "execute_result"
    }
   ],
   "source": [
    "df.head()"
   ]
  }
 ],
 "metadata": {
  "kernelspec": {
   "display_name": "Python 3",
   "language": "python",
   "name": "python3"
  },
  "language_info": {
   "codemirror_mode": {
    "name": "ipython",
    "version": 3
   },
   "file_extension": ".py",
   "mimetype": "text/x-python",
   "name": "python",
   "nbconvert_exporter": "python",
   "pygments_lexer": "ipython3",
   "version": "3.6.5"
  }
 },
 "nbformat": 4,
 "nbformat_minor": 2
}
